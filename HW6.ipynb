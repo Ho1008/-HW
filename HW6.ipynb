{
  "metadata": {
    "kernelspec": {
      "name": "python",
      "display_name": "Python (Pyodide)",
      "language": "python"
    },
    "language_info": {
      "codemirror_mode": {
        "name": "python",
        "version": 3
      },
      "file_extension": ".py",
      "mimetype": "text/x-python",
      "name": "python",
      "nbconvert_exporter": "python",
      "pygments_lexer": "ipython3",
      "version": "3.8"
    },
    "colab": {
      "provenance": []
    }
  },
  "nbformat_minor": 5,
  "nbformat": 4,
  "cells": [
    {
      "cell_type": "code",
      "source": [
        "print('I have no idea, what about you?')"
      ],
      "metadata": {
        "trusted": true,
        "id": "fe55883a-6887-43dd-9498-5333a51799e2",
        "outputId": "5042326f-e362-4564-eb5b-b3509d7f2dee"
      },
      "execution_count": null,
      "outputs": [
        {
          "name": "stdout",
          "text": "I have no idea, what about you?\n",
          "output_type": "stream"
        }
      ],
      "id": "fe55883a-6887-43dd-9498-5333a51799e2"
    },
    {
      "cell_type": "code",
      "source": [
        "print('Me too.')"
      ],
      "metadata": {
        "id": "k3uUl3KCppbu"
      },
      "id": "k3uUl3KCppbu",
      "execution_count": null,
      "outputs": []
    }
  ]
}